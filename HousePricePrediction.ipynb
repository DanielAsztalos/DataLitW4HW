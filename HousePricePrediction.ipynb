{
  "nbformat": 4,
  "nbformat_minor": 0,
  "metadata": {
    "colab": {
      "name": "HousePricePrediction.ipynb",
      "version": "0.3.2",
      "provenance": [],
      "collapsed_sections": []
    },
    "kernelspec": {
      "name": "python3",
      "display_name": "Python 3"
    }
  },
  "cells": [
    {
      "metadata": {
        "id": "d76vyK35IAvW",
        "colab_type": "text"
      },
      "cell_type": "markdown",
      "source": [
        "# DataLit Homework Assignment Week 4"
      ]
    },
    {
      "metadata": {
        "id": "HsuXqOzKIlsK",
        "colab_type": "text"
      },
      "cell_type": "markdown",
      "source": [
        "This notebook is based on the House price prediction contest from Kaggle:\n",
        "[you can find it here.](https://www.kaggle.com/c/house-prices-advanced-regression-techniques)\n",
        "\n",
        "This notebook was inspired by [this](https://www.kaggle.com/serigne/stacked-regressions-top-4-on-leaderboard) article, most of the code was taken from there, so i do not own it."
      ]
    },
    {
      "metadata": {
        "id": "wGxdQ4SXIAHK",
        "colab_type": "code",
        "colab": {}
      },
      "cell_type": "code",
      "source": [
        ""
      ],
      "execution_count": 0,
      "outputs": []
    },
    {
      "metadata": {
        "id": "rujY0jd9KP8z",
        "colab_type": "text"
      },
      "cell_type": "markdown",
      "source": [
        "# Data Cleaning"
      ]
    },
    {
      "metadata": {
        "id": "HW10M9QNK3-p",
        "colab_type": "code",
        "colab": {}
      },
      "cell_type": "code",
      "source": [
        "#import all necessary libraries for data cleaning\n",
        "import pandas as pd\n",
        "import matplotlib.pyplot as plt\n",
        "import seaborn as sns\n",
        "import numpy as np\n",
        "from scipy.stats import norm, skew\n",
        "from sklearn.preprocessing import StandardScaler\n",
        "from scipy import stats\n"
      ],
      "execution_count": 0,
      "outputs": []
    },
    {
      "metadata": {
        "id": "_sDee67kORRf",
        "colab_type": "code",
        "outputId": "82572422-3c86-4be5-fe44-62bebeced915",
        "colab": {
          "base_uri": "https://localhost:8080/",
          "height": 34
        }
      },
      "cell_type": "code",
      "source": [
        "from google.colab import drive\n",
        "\n",
        "drive.mount('/content/gdrive')"
      ],
      "execution_count": 35,
      "outputs": [
        {
          "output_type": "stream",
          "text": [
            "Drive already mounted at /content/gdrive; to attempt to forcibly remount, call drive.mount(\"/content/gdrive\", force_remount=True).\n"
          ],
          "name": "stdout"
        }
      ]
    },
    {
      "metadata": {
        "id": "g6cYohkYQ7jG",
        "colab_type": "code",
        "colab": {}
      },
      "cell_type": "code",
      "source": [
        "#loading the train and test data and removing ids from them\n",
        "df_train = pd.read_csv('/content/gdrive/My Drive/hw1/train.csv')\n",
        "df_test = pd.read_csv('/content/gdrive/My Drive/hw1/test.csv')\n",
        "\n",
        "train_ID = df_train['Id']\n",
        "test_ID = df_test['Id']\n",
        "\n",
        "df_train.drop(\"Id\", 1, inplace=True)\n",
        "df_test.drop(\"Id\", 1, inplace=True)"
      ],
      "execution_count": 0,
      "outputs": []
    },
    {
      "metadata": {
        "id": "IePB3yx8bAgA",
        "colab_type": "code",
        "colab": {}
      },
      "cell_type": "code",
      "source": [
        "#delete all the outliers from the data\n",
        "df_train = df_train.drop(df_train[(df_train['GrLivArea'] > 4000) & (df_train['SalePrice'] < 300000)].index)\n",
        "\n",
        "df_train['SalePrice'] = np.log1p(df_train['SalePrice'])"
      ],
      "execution_count": 0,
      "outputs": []
    },
    {
      "metadata": {
        "id": "uYoaZ2ij-yXs",
        "colab_type": "code",
        "colab": {}
      },
      "cell_type": "code",
      "source": [
        "#concatenating the train and test data\n",
        "ntrain = df_train.shape[0]\n",
        "ntest = df_test.shape[0]\n",
        "\n",
        "y_train = df_train.SalePrice.values\n",
        "all_data = pd.concat((df_train, df_test)).reset_index(drop=True)\n",
        "all_data.drop(['SalePrice'], axis=1, inplace=True)"
      ],
      "execution_count": 0,
      "outputs": []
    },
    {
      "metadata": {
        "id": "9RDkenMERYwG",
        "colab_type": "code",
        "outputId": "bb95c539-e18c-4b5a-a483-801e5a2250b2",
        "colab": {
          "base_uri": "https://localhost:8080/",
          "height": 639
        }
      },
      "cell_type": "code",
      "source": [
        "#examine the missing values\n",
        "total = all_data.isnull().sum().sort_values(ascending=False)\n",
        "percent = (all_data.isnull().sum()/all_data.isnull().count()).sort_values(ascending = False)\n",
        "missing_data = pd.concat([total, percent], axis=1, keys=['Total', 'Percent'])\n",
        "missing_data.head(20)"
      ],
      "execution_count": 8,
      "outputs": [
        {
          "output_type": "execute_result",
          "data": {
            "text/html": [
              "<div>\n",
              "<style scoped>\n",
              "    .dataframe tbody tr th:only-of-type {\n",
              "        vertical-align: middle;\n",
              "    }\n",
              "\n",
              "    .dataframe tbody tr th {\n",
              "        vertical-align: top;\n",
              "    }\n",
              "\n",
              "    .dataframe thead th {\n",
              "        text-align: right;\n",
              "    }\n",
              "</style>\n",
              "<table border=\"1\" class=\"dataframe\">\n",
              "  <thead>\n",
              "    <tr style=\"text-align: right;\">\n",
              "      <th></th>\n",
              "      <th>Total</th>\n",
              "      <th>Percent</th>\n",
              "    </tr>\n",
              "  </thead>\n",
              "  <tbody>\n",
              "    <tr>\n",
              "      <th>PoolQC</th>\n",
              "      <td>2908</td>\n",
              "      <td>0.996915</td>\n",
              "    </tr>\n",
              "    <tr>\n",
              "      <th>MiscFeature</th>\n",
              "      <td>2812</td>\n",
              "      <td>0.964004</td>\n",
              "    </tr>\n",
              "    <tr>\n",
              "      <th>Alley</th>\n",
              "      <td>2719</td>\n",
              "      <td>0.932122</td>\n",
              "    </tr>\n",
              "    <tr>\n",
              "      <th>Fence</th>\n",
              "      <td>2346</td>\n",
              "      <td>0.804251</td>\n",
              "    </tr>\n",
              "    <tr>\n",
              "      <th>FireplaceQu</th>\n",
              "      <td>1420</td>\n",
              "      <td>0.486802</td>\n",
              "    </tr>\n",
              "    <tr>\n",
              "      <th>LotFrontage</th>\n",
              "      <td>486</td>\n",
              "      <td>0.166610</td>\n",
              "    </tr>\n",
              "    <tr>\n",
              "      <th>GarageFinish</th>\n",
              "      <td>159</td>\n",
              "      <td>0.054508</td>\n",
              "    </tr>\n",
              "    <tr>\n",
              "      <th>GarageQual</th>\n",
              "      <td>159</td>\n",
              "      <td>0.054508</td>\n",
              "    </tr>\n",
              "    <tr>\n",
              "      <th>GarageYrBlt</th>\n",
              "      <td>159</td>\n",
              "      <td>0.054508</td>\n",
              "    </tr>\n",
              "    <tr>\n",
              "      <th>GarageCond</th>\n",
              "      <td>159</td>\n",
              "      <td>0.054508</td>\n",
              "    </tr>\n",
              "    <tr>\n",
              "      <th>GarageType</th>\n",
              "      <td>157</td>\n",
              "      <td>0.053822</td>\n",
              "    </tr>\n",
              "    <tr>\n",
              "      <th>BsmtCond</th>\n",
              "      <td>82</td>\n",
              "      <td>0.028111</td>\n",
              "    </tr>\n",
              "    <tr>\n",
              "      <th>BsmtExposure</th>\n",
              "      <td>82</td>\n",
              "      <td>0.028111</td>\n",
              "    </tr>\n",
              "    <tr>\n",
              "      <th>BsmtQual</th>\n",
              "      <td>81</td>\n",
              "      <td>0.027768</td>\n",
              "    </tr>\n",
              "    <tr>\n",
              "      <th>BsmtFinType2</th>\n",
              "      <td>80</td>\n",
              "      <td>0.027425</td>\n",
              "    </tr>\n",
              "    <tr>\n",
              "      <th>BsmtFinType1</th>\n",
              "      <td>79</td>\n",
              "      <td>0.027083</td>\n",
              "    </tr>\n",
              "    <tr>\n",
              "      <th>MasVnrType</th>\n",
              "      <td>24</td>\n",
              "      <td>0.008228</td>\n",
              "    </tr>\n",
              "    <tr>\n",
              "      <th>MasVnrArea</th>\n",
              "      <td>23</td>\n",
              "      <td>0.007885</td>\n",
              "    </tr>\n",
              "    <tr>\n",
              "      <th>MSZoning</th>\n",
              "      <td>4</td>\n",
              "      <td>0.001371</td>\n",
              "    </tr>\n",
              "    <tr>\n",
              "      <th>BsmtHalfBath</th>\n",
              "      <td>2</td>\n",
              "      <td>0.000686</td>\n",
              "    </tr>\n",
              "  </tbody>\n",
              "</table>\n",
              "</div>"
            ],
            "text/plain": [
              "              Total   Percent\n",
              "PoolQC         2908  0.996915\n",
              "MiscFeature    2812  0.964004\n",
              "Alley          2719  0.932122\n",
              "Fence          2346  0.804251\n",
              "FireplaceQu    1420  0.486802\n",
              "LotFrontage     486  0.166610\n",
              "GarageFinish    159  0.054508\n",
              "GarageQual      159  0.054508\n",
              "GarageYrBlt     159  0.054508\n",
              "GarageCond      159  0.054508\n",
              "GarageType      157  0.053822\n",
              "BsmtCond         82  0.028111\n",
              "BsmtExposure     82  0.028111\n",
              "BsmtQual         81  0.027768\n",
              "BsmtFinType2     80  0.027425\n",
              "BsmtFinType1     79  0.027083\n",
              "MasVnrType       24  0.008228\n",
              "MasVnrArea       23  0.007885\n",
              "MSZoning          4  0.001371\n",
              "BsmtHalfBath      2  0.000686"
            ]
          },
          "metadata": {
            "tags": []
          },
          "execution_count": 8
        }
      ]
    },
    {
      "metadata": {
        "id": "8AxLDnK-ACE7",
        "colab_type": "code",
        "colab": {}
      },
      "cell_type": "code",
      "source": [
        "#filling the missing values\n",
        "all_data[\"PoolQC\"] = all_data[\"PoolQC\"].fillna(\"None\")\n",
        "all_data[\"MiscFeature\"] = all_data[\"MiscFeature\"].fillna(\"None\")\n",
        "all_data[\"Alley\"] = all_data[\"Alley\"].fillna(\"None\")\n",
        "all_data[\"Fence\"] = all_data[\"Fence\"].fillna(\"None\")\n",
        "all_data[\"FireplaceQu\"] = all_data[\"FireplaceQu\"].fillna(\"None\")"
      ],
      "execution_count": 0,
      "outputs": []
    },
    {
      "metadata": {
        "id": "ut-_PpIIigVf",
        "colab_type": "code",
        "colab": {}
      },
      "cell_type": "code",
      "source": [
        "all_data[\"LotFrontage\"] = all_data.groupby(\"Neighborhood\")[\"LotFrontage\"].transform(lambda x: x.fillna(x.median()))\n",
        "for col in ('GarageType', 'GarageFinish', 'GarageQual', 'GarageCond'):\n",
        "  all_data[col] = all_data[col].fillna('None')\n",
        "  \n",
        "for col in ('GarageYrBlt', 'GarageArea', 'GarageCars'):\n",
        "  all_data[col] = all_data[col].fillna(0)\n",
        "  \n",
        "for col in ('BsmtFinSF1', 'BsmtFinSF2', 'BsmtUnfSF','TotalBsmtSF', 'BsmtFullBath', 'BsmtHalfBath'):\n",
        "  all_data[col] = all_data[col].fillna(0)\n",
        "    \n",
        "for col in ('BsmtQual', 'BsmtCond', 'BsmtExposure', 'BsmtFinType1', 'BsmtFinType2'):\n",
        "  all_data[col] = all_data[col].fillna('None')\n",
        "\n",
        "all_data[\"MasVnrType\"] = all_data[\"MasVnrType\"].fillna(\"None\")\n",
        "all_data[\"MasVnrArea\"] = all_data[\"MasVnrArea\"].fillna(0)\n",
        "\n",
        "all_data['MSZoning'] = all_data['MSZoning'].fillna(all_data['MSZoning'].mode()[0])\n",
        "\n",
        "all_data = all_data.drop(['Utilities'], axis=1)\n",
        "\n",
        "all_data[\"Functional\"] = all_data[\"Functional\"].fillna(\"Typ\")\n",
        "\n",
        "all_data['Electrical'] = all_data['Electrical'].fillna(all_data['Electrical'].mode()[0])\n",
        "\n",
        "all_data['KitchenQual'] = all_data['KitchenQual'].fillna(all_data['KitchenQual'].mode()[0])\n",
        "\n",
        "all_data['Exterior1st'] = all_data['Exterior1st'].fillna(all_data['Exterior1st'].mode()[0])\n",
        "all_data['Exterior2nd'] = all_data['Exterior2nd'].fillna(all_data['Exterior2nd'].mode()[0])\n",
        "\n",
        "all_data['SaleType'] = all_data['SaleType'].fillna(all_data['SaleType'].mode()[0])\n",
        "\n",
        "all_data['MSSubClass'] = all_data['MSSubClass'].fillna(\"None\")\n",
        "\n"
      ],
      "execution_count": 0,
      "outputs": []
    },
    {
      "metadata": {
        "id": "J5yoyF3_Cw0k",
        "colab_type": "code",
        "colab": {
          "base_uri": "https://localhost:8080/",
          "height": 47
        },
        "outputId": "4394fcb9-badd-4f47-dd6f-9ba0796a3c5a"
      },
      "cell_type": "code",
      "source": [
        "#examine missing values again\n",
        "all_data_na = (all_data.isnull().sum() / len(all_data)) * 100\n",
        "all_data_na = all_data_na.drop(all_data_na[all_data_na == 0].index).sort_values(ascending=False)\n",
        "missing_data = pd.DataFrame({'Missing Ratio' :all_data_na})\n",
        "missing_data.head()"
      ],
      "execution_count": 11,
      "outputs": [
        {
          "output_type": "execute_result",
          "data": {
            "text/html": [
              "<div>\n",
              "<style scoped>\n",
              "    .dataframe tbody tr th:only-of-type {\n",
              "        vertical-align: middle;\n",
              "    }\n",
              "\n",
              "    .dataframe tbody tr th {\n",
              "        vertical-align: top;\n",
              "    }\n",
              "\n",
              "    .dataframe thead th {\n",
              "        text-align: right;\n",
              "    }\n",
              "</style>\n",
              "<table border=\"1\" class=\"dataframe\">\n",
              "  <thead>\n",
              "    <tr style=\"text-align: right;\">\n",
              "      <th></th>\n",
              "      <th>Missing Ratio</th>\n",
              "    </tr>\n",
              "  </thead>\n",
              "  <tbody>\n",
              "  </tbody>\n",
              "</table>\n",
              "</div>"
            ],
            "text/plain": [
              "Empty DataFrame\n",
              "Columns: [Missing Ratio]\n",
              "Index: []"
            ]
          },
          "metadata": {
            "tags": []
          },
          "execution_count": 11
        }
      ]
    },
    {
      "metadata": {
        "id": "oteYkG6YC6wC",
        "colab_type": "code",
        "colab": {}
      },
      "cell_type": "code",
      "source": [
        "all_data['MSSubClass'] = all_data['MSSubClass'].apply(str)\n",
        "\n",
        "all_data['OverallCond'] = all_data['OverallCond'].astype(str)\n",
        "\n",
        "all_data['YrSold'] = all_data['YrSold'].astype(str)\n",
        "all_data['MoSold'] = all_data['MoSold'].astype(str)"
      ],
      "execution_count": 0,
      "outputs": []
    },
    {
      "metadata": {
        "id": "-jTNQSc5DCta",
        "colab_type": "code",
        "colab": {}
      },
      "cell_type": "code",
      "source": [
        "from sklearn.preprocessing import LabelEncoder\n",
        "cols = ('FireplaceQu', 'BsmtQual', 'BsmtCond', 'GarageQual', 'GarageCond', \n",
        "        'ExterQual', 'ExterCond','HeatingQC', 'PoolQC', 'KitchenQual', 'BsmtFinType1', \n",
        "        'BsmtFinType2', 'Functional', 'Fence', 'BsmtExposure', 'GarageFinish', 'LandSlope',\n",
        "        'LotShape', 'PavedDrive', 'Street', 'Alley', 'CentralAir', 'MSSubClass', 'OverallCond', \n",
        "        'YrSold', 'MoSold')\n",
        "\n",
        "for c in cols:\n",
        "    lbl = LabelEncoder() \n",
        "    lbl.fit(list(all_data[c].values)) \n",
        "    all_data[c] = lbl.transform(list(all_data[c].values))\n",
        "    \n"
      ],
      "execution_count": 0,
      "outputs": []
    },
    {
      "metadata": {
        "id": "A-BZDNepDOVj",
        "colab_type": "code",
        "colab": {}
      },
      "cell_type": "code",
      "source": [
        "all_data['TotalSF'] = all_data['TotalBsmtSF'] + all_data['1stFlrSF'] + all_data['2ndFlrSF']"
      ],
      "execution_count": 0,
      "outputs": []
    },
    {
      "metadata": {
        "id": "7cqZ0vJcDiQ6",
        "colab_type": "code",
        "colab": {
          "base_uri": "https://localhost:8080/",
          "height": 394
        },
        "outputId": "be768531-6530-4ffb-e759-7eabcc25689e"
      },
      "cell_type": "code",
      "source": [
        "numeric_feats = all_data.dtypes[all_data.dtypes != \"object\"].index\n",
        "skewed_feats = all_data[numeric_feats].apply(lambda x: skew(x.dropna())).sort_values(ascending=False)\n",
        "print(\"\\nSkew in numerical features: \\n\")\n",
        "skewness = pd.DataFrame({'Skew' :skewed_feats})\n",
        "skewness.head(10)"
      ],
      "execution_count": 15,
      "outputs": [
        {
          "output_type": "stream",
          "text": [
            "\n",
            "Skew in numerical features: \n",
            "\n"
          ],
          "name": "stdout"
        },
        {
          "output_type": "execute_result",
          "data": {
            "text/html": [
              "<div>\n",
              "<style scoped>\n",
              "    .dataframe tbody tr th:only-of-type {\n",
              "        vertical-align: middle;\n",
              "    }\n",
              "\n",
              "    .dataframe tbody tr th {\n",
              "        vertical-align: top;\n",
              "    }\n",
              "\n",
              "    .dataframe thead th {\n",
              "        text-align: right;\n",
              "    }\n",
              "</style>\n",
              "<table border=\"1\" class=\"dataframe\">\n",
              "  <thead>\n",
              "    <tr style=\"text-align: right;\">\n",
              "      <th></th>\n",
              "      <th>Skew</th>\n",
              "    </tr>\n",
              "  </thead>\n",
              "  <tbody>\n",
              "    <tr>\n",
              "      <th>MiscVal</th>\n",
              "      <td>21.939672</td>\n",
              "    </tr>\n",
              "    <tr>\n",
              "      <th>PoolArea</th>\n",
              "      <td>17.688664</td>\n",
              "    </tr>\n",
              "    <tr>\n",
              "      <th>LotArea</th>\n",
              "      <td>13.109495</td>\n",
              "    </tr>\n",
              "    <tr>\n",
              "      <th>LowQualFinSF</th>\n",
              "      <td>12.084539</td>\n",
              "    </tr>\n",
              "    <tr>\n",
              "      <th>3SsnPorch</th>\n",
              "      <td>11.372080</td>\n",
              "    </tr>\n",
              "    <tr>\n",
              "      <th>LandSlope</th>\n",
              "      <td>4.973254</td>\n",
              "    </tr>\n",
              "    <tr>\n",
              "      <th>KitchenAbvGr</th>\n",
              "      <td>4.300550</td>\n",
              "    </tr>\n",
              "    <tr>\n",
              "      <th>BsmtFinSF2</th>\n",
              "      <td>4.144503</td>\n",
              "    </tr>\n",
              "    <tr>\n",
              "      <th>EnclosedPorch</th>\n",
              "      <td>4.002344</td>\n",
              "    </tr>\n",
              "    <tr>\n",
              "      <th>ScreenPorch</th>\n",
              "      <td>3.945101</td>\n",
              "    </tr>\n",
              "  </tbody>\n",
              "</table>\n",
              "</div>"
            ],
            "text/plain": [
              "                    Skew\n",
              "MiscVal        21.939672\n",
              "PoolArea       17.688664\n",
              "LotArea        13.109495\n",
              "LowQualFinSF   12.084539\n",
              "3SsnPorch      11.372080\n",
              "LandSlope       4.973254\n",
              "KitchenAbvGr    4.300550\n",
              "BsmtFinSF2      4.144503\n",
              "EnclosedPorch   4.002344\n",
              "ScreenPorch     3.945101"
            ]
          },
          "metadata": {
            "tags": []
          },
          "execution_count": 15
        }
      ]
    },
    {
      "metadata": {
        "id": "cwDpYj3ODnyU",
        "colab_type": "code",
        "colab": {}
      },
      "cell_type": "code",
      "source": [
        "skewness = skewness[abs(skewness) > 0.75]\n",
        "\n",
        "from scipy.special import boxcox1p\n",
        "skewed_features = skewness.index\n",
        "lam = 0.15\n",
        "for feat in skewed_features:\n",
        "    all_data[feat] = boxcox1p(all_data[feat], lam)"
      ],
      "execution_count": 0,
      "outputs": []
    },
    {
      "metadata": {
        "id": "5OdilGFgD16k",
        "colab_type": "code",
        "colab": {}
      },
      "cell_type": "code",
      "source": [
        "all_data = pd.get_dummies(all_data)"
      ],
      "execution_count": 0,
      "outputs": []
    },
    {
      "metadata": {
        "id": "GD_z0fY-D8lr",
        "colab_type": "code",
        "colab": {}
      },
      "cell_type": "code",
      "source": [
        "train = all_data[:ntrain]\n",
        "test = all_data[ntrain:]"
      ],
      "execution_count": 0,
      "outputs": []
    },
    {
      "metadata": {
        "id": "5U4h0_JdW6_m",
        "colab_type": "text"
      },
      "cell_type": "markdown",
      "source": [
        "# Linear Regression"
      ]
    },
    {
      "metadata": {
        "id": "eEkPdmBhEsZa",
        "colab_type": "code",
        "colab": {}
      },
      "cell_type": "code",
      "source": [
        "from sklearn.model_selection import KFold, cross_val_score, train_test_split\n",
        "from sklearn.pipeline import make_pipeline\n",
        "n_folds = 5\n",
        "\n",
        "\n",
        "#Calculating the Root Mean Squared Logarithmic Error\n",
        "def rmsle_cv(model):\n",
        "    kf = KFold(n_folds, shuffle=True, random_state=42).get_n_splits(train.values)\n",
        "    rmse= np.sqrt(-cross_val_score(model, train.values, y_train, scoring=\"neg_mean_squared_error\", cv = kf))\n",
        "    return(rmse)"
      ],
      "execution_count": 0,
      "outputs": []
    },
    {
      "metadata": {
        "id": "sDkG8cQRXBkW",
        "colab_type": "code",
        "outputId": "501512e3-dea1-48ed-bbd3-7c839ffe79a0",
        "colab": {
          "base_uri": "https://localhost:8080/",
          "height": 34
        }
      },
      "cell_type": "code",
      "source": [
        "from sklearn.linear_model import LinearRegression, Lasso\n",
        "from copy import deepcopy\n",
        "from sklearn.preprocessing import RobustScaler\n",
        "\n",
        "#Creating a linear regression model\n",
        "\n",
        "linear = make_pipeline(RobustScaler(), LinearRegression())\n",
        "\n",
        "score = rmsle_cv(linear)\n",
        "\n",
        "score.mean()"
      ],
      "execution_count": 28,
      "outputs": [
        {
          "output_type": "execute_result",
          "data": {
            "text/plain": [
              "0.12379368798770045"
            ]
          },
          "metadata": {
            "tags": []
          },
          "execution_count": 28
        }
      ]
    },
    {
      "metadata": {
        "id": "XJwA3rN1GpG7",
        "colab_type": "text"
      },
      "cell_type": "markdown",
      "source": [
        "# Lasso Regression"
      ]
    },
    {
      "metadata": {
        "id": "uF-bcTQ3Guxy",
        "colab_type": "code",
        "colab": {
          "base_uri": "https://localhost:8080/",
          "height": 34
        },
        "outputId": "59acb537-5b71-4c73-fdee-d5b54cbc09b7"
      },
      "cell_type": "code",
      "source": [
        "#Lasso regression model\n",
        "lasso = make_pipeline(RobustScaler(), Lasso(alpha=0.0005, random_state=1))\n",
        "\n",
        "lasso_score = rmsle_cv(lasso)\n",
        "\n",
        "lasso_score.mean()"
      ],
      "execution_count": 34,
      "outputs": [
        {
          "output_type": "execute_result",
          "data": {
            "text/plain": [
              "0.11154401565138208"
            ]
          },
          "metadata": {
            "tags": []
          },
          "execution_count": 34
        }
      ]
    },
    {
      "metadata": {
        "id": "KHEOvhQ1LBI7",
        "colab_type": "text"
      },
      "cell_type": "markdown",
      "source": [
        "Lasso Regression performed slightly better than the simple linear model."
      ]
    }
  ]
}